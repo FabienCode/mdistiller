{
 "cells": [
  {
   "cell_type": "markdown",
   "metadata": {},
   "source": [
    "# Correlation matrices visualization of CIFAR-100 models"
   ]
  },
  {
   "cell_type": "code",
   "execution_count": 9,
   "metadata": {},
   "outputs": [],
   "source": [
    "!export PYTHONPATH=\"/home/fabien/Documents/project/2d/mdistiller:$PYTHONPATH\""
   ]
  },
  {
   "cell_type": "code",
   "execution_count": 10,
   "metadata": {},
   "outputs": [
    {
     "ename": "ModuleNotFoundError",
     "evalue": "No module named 'mdistiller'",
     "output_type": "error",
     "traceback": [
      "\u001b[0;31m---------------------------------------------------------------------------\u001b[0m",
      "\u001b[0;31mModuleNotFoundError\u001b[0m                       Traceback (most recent call last)",
      "\u001b[1;32m/home/fabien/Documents/project/2d/mdistiller/tools/visualizations/correlation.ipynb Cell 3\u001b[0m line \u001b[0;36m7\n\u001b[1;32m      <a href='vscode-notebook-cell://ssh-remote%2B1.tcp.cpolar.cn/home/fabien/Documents/project/2d/mdistiller/tools/visualizations/correlation.ipynb#W1sdnNjb2RlLXJlbW90ZQ%3D%3D?line=3'>4</a>\u001b[0m \u001b[39mimport\u001b[39;00m \u001b[39mmatplotlib\u001b[39;00m\u001b[39m.\u001b[39;00m\u001b[39mpyplot\u001b[39;00m \u001b[39mas\u001b[39;00m \u001b[39mplt\u001b[39;00m\n\u001b[1;32m      <a href='vscode-notebook-cell://ssh-remote%2B1.tcp.cpolar.cn/home/fabien/Documents/project/2d/mdistiller/tools/visualizations/correlation.ipynb#W1sdnNjb2RlLXJlbW90ZQ%3D%3D?line=4'>5</a>\u001b[0m \u001b[39mimport\u001b[39;00m \u001b[39mseaborn\u001b[39;00m\n\u001b[0;32m----> <a href='vscode-notebook-cell://ssh-remote%2B1.tcp.cpolar.cn/home/fabien/Documents/project/2d/mdistiller/tools/visualizations/correlation.ipynb#W1sdnNjb2RlLXJlbW90ZQ%3D%3D?line=6'>7</a>\u001b[0m \u001b[39mfrom\u001b[39;00m \u001b[39mmdistiller\u001b[39;00m\u001b[39m.\u001b[39;00m\u001b[39mmodels\u001b[39;00m \u001b[39mimport\u001b[39;00m cifar_model_dict\n\u001b[1;32m      <a href='vscode-notebook-cell://ssh-remote%2B1.tcp.cpolar.cn/home/fabien/Documents/project/2d/mdistiller/tools/visualizations/correlation.ipynb#W1sdnNjb2RlLXJlbW90ZQ%3D%3D?line=7'>8</a>\u001b[0m \u001b[39mfrom\u001b[39;00m \u001b[39mmdistiller\u001b[39;00m\u001b[39m.\u001b[39;00m\u001b[39mdataset\u001b[39;00m \u001b[39mimport\u001b[39;00m get_dataset\n\u001b[1;32m      <a href='vscode-notebook-cell://ssh-remote%2B1.tcp.cpolar.cn/home/fabien/Documents/project/2d/mdistiller/tools/visualizations/correlation.ipynb#W1sdnNjb2RlLXJlbW90ZQ%3D%3D?line=8'>9</a>\u001b[0m \u001b[39mfrom\u001b[39;00m \u001b[39mmdistiller\u001b[39;00m\u001b[39m.\u001b[39;00m\u001b[39mengine\u001b[39;00m\u001b[39m.\u001b[39;00m\u001b[39mutils\u001b[39;00m \u001b[39mimport\u001b[39;00m load_checkpoint\n",
      "\u001b[0;31mModuleNotFoundError\u001b[0m: No module named 'mdistiller'"
     ]
    }
   ],
   "source": [
    "import numpy as np\n",
    "import torch\n",
    "from tqdm import tqdm\n",
    "import matplotlib.pyplot as plt\n",
    "import seaborn\n",
    "\n",
    "from mdistiller.models import cifar_model_dict\n",
    "from mdistiller.dataset import get_dataset\n",
    "from mdistiller.engine.utils import load_checkpoint\n",
    "from mdistiller.engine.cfg import CFG as cfg"
   ]
  },
  {
   "cell_type": "code",
   "execution_count": null,
   "metadata": {},
   "outputs": [],
   "source": [
    "# visualize the difference between the teacher's output logits and the student's\n",
    "def get_output_metric(model, val_loader, num_classes=100):\n",
    "    model.eval()\n",
    "    all_preds, all_labels = [], []\n",
    "    with torch.no_grad():\n",
    "        for i, (data, labels) in tqdm(enumerate(val_loader)):\n",
    "            outputs, _ = model(data)\n",
    "            preds = outputs\n",
    "            all_preds.append(preds.data.cpu().numpy())\n",
    "            all_labels.append(labels.data.cpu().numpy())\n",
    "    \n",
    "    all_preds = np.concatenate(all_preds, 0)\n",
    "    all_labels = np.concatenate(all_labels, 0)\n",
    "    matrix = np.zeros((num_classes, num_classes))\n",
    "    cnt = np.zeros((num_classes, 1))\n",
    "    for p, l in zip(all_preds, all_labels):\n",
    "        cnt[l, 0] += 1\n",
    "        matrix[l] += p\n",
    "    matrix /= cnt\n",
    "    return matrix\n",
    "\n",
    "def get_tea_stu_diff(tea, stu, mpath, max_diff):\n",
    "    cfg.defrost()\n",
    "    cfg.DISTILLER.STUDENT = stu\n",
    "    cfg.DISTILLER.TEACHER = tea\n",
    "    cfg.DATASET.TYPE = 'cifar100'\n",
    "    cfg.freeze()\n",
    "    train_loader, val_loader, num_data, num_classes = get_dataset(cfg)\n",
    "    model = cifar_model_dict[cfg.DISTILLER.STUDENT][0](num_classes=num_classes)\n",
    "    model.load_state_dict(load_checkpoint(mpath)[\"model\"])\n",
    "    tea_model = cifar_model_dict[cfg.DISTILLER.TEACHER][0](num_classes=num_classes)\n",
    "    tea_model.load_state_dict(load_checkpoint(cifar_model_dict[cfg.DISTILLER.TEACHER][1])[\"model\"])\n",
    "    print(\"load model successfully!\")\n",
    "    ms = get_output_metric(model, val_loader)\n",
    "    mt = get_output_metric(tea_model, val_loader)\n",
    "    diff = np.abs((ms - mt)) / max_diff\n",
    "    for i in range(100):\n",
    "        diff[i, i] = 0\n",
    "    print('max(diff):', diff.max())\n",
    "    print('mean(diff):', diff.mean())\n",
    "    seaborn.heatmap(diff, vmin=0, vmax=1.0, cmap=\"PuBuGn\")\n",
    "    plt.show()"
   ]
  },
  {
   "cell_type": "code",
   "execution_count": null,
   "metadata": {},
   "outputs": [],
   "source": [
    "# set a common max-value of the difference for fair comparsion between different methods\n",
    "MAX_DIFF = 3.0"
   ]
  },
  {
   "cell_type": "code",
   "execution_count": null,
   "metadata": {},
   "outputs": [],
   "source": [
    "# KD baseline\n",
    "mpath = \"../../download_ckpts/kd_resnet8x4\"\n",
    "get_tea_stu_diff(\"resnet32x4\", \"resnet8x4\", mpath, MAX_DIFF)"
   ]
  },
  {
   "cell_type": "code",
   "execution_count": null,
   "metadata": {},
   "outputs": [],
   "source": [
    "# Our DKD\n",
    "mpath = \"../../download_ckpts/dkd_resnet8x4\"\n",
    "get_tea_stu_diff(\"resnet32x4\", \"resnet8x4\", mpath, MAX_DIFF)"
   ]
  }
 ],
 "metadata": {
  "interpreter": {
   "hash": "31f2aee4e71d21fbe5cf8b01ff0e069b9275f58929596ceb00d14d90e3e16cd6"
  },
  "kernelspec": {
   "display_name": "Python 3.6.9 64-bit",
   "language": "python",
   "name": "python3"
  },
  "language_info": {
   "codemirror_mode": {
    "name": "ipython",
    "version": 3
   },
   "file_extension": ".py",
   "mimetype": "text/x-python",
   "name": "python",
   "nbconvert_exporter": "python",
   "pygments_lexer": "ipython3",
   "version": "3.9.17"
  },
  "orig_nbformat": 2
 },
 "nbformat": 4,
 "nbformat_minor": 2
}
