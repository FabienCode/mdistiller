{
 "cells": [
  {
   "cell_type": "markdown",
   "metadata": {},
   "source": [
    "# Correlation matrices visualization of CIFAR-100 models"
   ]
  },
  {
   "cell_type": "code",
   "execution_count": null,
   "metadata": {},
   "outputs": [],
   "source": [
    "!export PYTHONPATH=\"/home/fabien/Documents/project/2d/mdistiller:$PYTHONPATH\""
   ]
  },
  {
   "cell_type": "code",
   "execution_count": null,
   "metadata": {
    "ExecuteTime": {
     "end_time": "2023-11-26T15:24:19.920933245Z",
     "start_time": "2023-11-26T15:24:19.916790236Z"
    }
   },
   "outputs": [],
   "source": [
    "import numpy as np\n",
    "import torch\n",
    "import torch.nn.functional as F\n",
    "from tqdm import tqdm\n",
    "import matplotlib.pyplot as plt\n",
    "import seaborn\n",
    "from collections import OrderedDict\n",
    "import matplotlib.pyplot as plt\n",
    "from sklearn.manifold import TSNE\n",
    "from matplotlib.colors import ListedColormap\n",
    "from sklearn.manifold import TSNE\n",
    "\n",
    "from scipy.stats import ks_2samp\n",
    "from scipy.stats import wasserstein_distance\n",
    "from sklearn.decomposition import PCA\n",
    "import seaborn as sns\n",
    "\n",
    "from mdistiller.models import cifar_model_dict\n",
    "from mdistiller.dataset import get_dataset\n",
    "from mdistiller.engine.utils import load_checkpoint\n",
    "from mdistiller.engine.cfg import CFG as cfg"
   ]
  },
  {
   "cell_type": "code",
   "execution_count": null,
   "metadata": {
    "ExecuteTime": {
     "end_time": "2023-11-26T15:26:00.560424494Z",
     "start_time": "2023-11-26T15:26:00.551736562Z"
    },
    "collapsed": false
   },
   "outputs": [],
   "source": [
    "def load_model(tea, stu, mpath):\n",
    "    cfg.defrost()\n",
    "    cfg.DISTILLER.STUDENT = stu\n",
    "    cfg.DISTILLER.TEACHER = tea\n",
    "    cfg.DATASET.TYPE = 'cifar100'\n",
    "    cfg.freeze()\n",
    "    train_loader, val_loader, num_data, num_classes = get_dataset(cfg)\n",
    "    model = cifar_model_dict[cfg.DISTILLER.STUDENT][0](num_classes=num_classes)\n",
    "    fully_state = load_checkpoint(mpath)[\"model\"]\n",
    "    student_weights = OrderedDict()\n",
    "    teacher_weights = OrderedDict()\n",
    "\n",
    "    for key, value in fully_state.items():\n",
    "        # 检查权重键是否包含 \"student\"\n",
    "        if 'student' in key:\n",
    "            key = key.replace(\"module.student.\", \"\")\n",
    "            student_weights[key] = value\n",
    "        if 'teacher' in key:\n",
    "            key = key.replace(\"module.teacher.\", \"\")\n",
    "            teacher_weights[key] = value\n",
    "    # model.load_state_dict(load_checkpoint(mpath)[\"model\"])\n",
    "    # tea_model = cifar_model_dict[cfg.DISTILLER.TEACHER][0](num_classes=num_classes)\n",
    "    # tea_model.load_state_dict(load_checkpoint(cifar_model_dict[cfg.DISTILLER.TEACHER][1])[\"model\"])\n",
    "    model.load_state_dict(student_weights)\n",
    "    tea_model = cifar_model_dict[cfg.DISTILLER.TEACHER][0](num_classes=num_classes)\n",
    "    tea_model.load_state_dict(teacher_weights)\n",
    "    print(\"load {} successfully!\".format(mpath))\n",
    "    return model, tea_model, val_loader"
   ]
  },
  {
   "cell_type": "code",
   "execution_count": null,
   "metadata": {
    "ExecuteTime": {
     "end_time": "2023-11-26T15:26:03.279426058Z",
     "start_time": "2023-11-26T15:26:03.275834714Z"
    }
   },
   "outputs": [],
   "source": [
    "# visualize the difference between the teacher's output logits and the student's\n",
    "def get_output_metric(model, val_loader, num_classes=100):\n",
    "    model.eval()\n",
    "    feat = []\n",
    "    label = []\n",
    "    with torch.no_grad():\n",
    "        for i, (data, labels) in tqdm(enumerate(val_loader)):\n",
    "            outputs, features = model(data)\n",
    "            feat.append(features['pooled_feat'].data.cpu().numpy())\n",
    "            label.append(labels.data.cpu().numpy())\n",
    "            # all_feat.append(preds[\"feats\"][-2].data.cpu().numpy())\n",
    "            # all_labels.append(labels.data.cpu().numpy())\n",
    "    all_features = np.concatenate(feat, 0)\n",
    "    all_labels = np.concatenate(label, 0)\n",
    "    return all_features, all_labels\n",
    "\n",
    "def get_feat_output(tea, stu, mpath):\n",
    "    cfg.defrost()\n",
    "    cfg.DISTILLER.STUDENT = stu\n",
    "    cfg.DISTILLER.TEACHER = tea\n",
    "    cfg.DATASET.TYPE = 'cifar100'\n",
    "    cfg.freeze()\n",
    "    train_loader, val_loader, num_data, num_classes = get_dataset(cfg)\n",
    "    model = cifar_model_dict[cfg.DISTILLER.STUDENT][0](num_classes=num_classes)\n",
    "    # model.load_state_dict(load_checkpoint(mpath)[\"model\"])\n",
    "    tea_model = cifar_model_dict[cfg.DISTILLER.TEACHER][0](num_classes=num_classes)\n",
    "    # tea_model.load_state_dict(load_checkpoint(cifar_model_dict[cfg.DISTILLER.TEACHER][1])[\"model\"])\n",
    "    model, tea_model, val_loader = load_model(tea, stu, mpath)\n",
    "    print(\"load model successfully!\")\n",
    "    s_feat, s_label = get_output_metric(model, val_loader)\n",
    "    t_feat, t_label = get_output_metric(tea_model, val_loader)\n",
    "    return s_feat, s_label, t_feat, t_label, num_classes\n",
    "\n",
    "def plot_features(features, labels, num_classes):\n",
    "    colors = ['C' + str(i) for i in range(num_classes)]\n",
    "    plt.figure(figsize=(6, 6))\n",
    "    for l in range(num_classes):\n",
    "        plt.scatter(\n",
    "            features[labels == l, 0],\n",
    "            features[labels == l, 1],\n",
    "            c=colors[l], s=1, alpha=0.4)\n",
    "    plt.xticks([])\n",
    "    plt.yticks([])\n",
    "    plt.show()\n",
    "\n",
    "def get_tsne(tea, stu, mpath):\n",
    "    s_feat, s_label, t_feat, t_label, num_classes = get_feat_output(tea, stu, mpath)\n",
    "    tsne = TSNE()\n",
    "    s_all_features = tsne.fit_transform(s_feat)\n",
    "    plot_features(s_all_features, s_label, num_classes)\n",
    "    t_all_features = tsne.fit_transform(t_feat)\n",
    "    plot_features(t_all_features, t_label, num_classes)\n",
    "\n",
    "\n",
    "\n"
   ]
  },
  {
   "cell_type": "code",
   "execution_count": null,
   "metadata": {
    "ExecuteTime": {
     "end_time": "2023-11-26T15:26:05.650862414Z",
     "start_time": "2023-11-26T15:26:05.635323270Z"
    }
   },
   "outputs": [],
   "source": [
    "mpath = \"/home/fabien/Documents/project/2d/mdistiller/tools/output/final/324_84/fitnet_324_84/best\"\n",
    "get_tsne(\"resnet32x4\", \"resnet8x4\", mpath)"
   ]
  },
  {
   "cell_type": "code",
   "execution_count": null,
   "metadata": {},
   "outputs": [],
   "source": [
    "mpath = \"/home/fabien/Documents/project/2d/mdistiller/tools/output/final/DFKD/324_84/own/v1-1-1LOG.WANDB:True/best\"\n",
    "get_tsne(\"resnet32x4\", \"resnet8x4\", mpath)\n"
   ]
  },
  {
   "cell_type": "code",
   "execution_count": null,
   "metadata": {},
   "outputs": [],
   "source": [
    "ori_mpath = \"/home/fabien/Documents/project/2d/mdistiller/tools/output/final/324_84/fitnet_324_84/best\"\n",
    "aug_mpath = \"/home/fabien/Documents/project/2d/mdistiller/tools/output/final/DFKD/324_84/own/fitnetDFKD_73.07/epoch_240\"\n",
    "s_feat_ori, s_label_ori, t_feat, t_label, _ = get_feat_output(\"resnet32x4\", \"resnet8x4\", ori_mpath)\n",
    "s_feat_aug, s_label_aug, t_feat, t_label, _ = get_feat_output(\"resnet32x4\", \"resnet8x4\", aug_mpath)\n"
   ]
  },
  {
   "cell_type": "code",
   "execution_count": null,
   "metadata": {},
   "outputs": [],
   "source": [
    "pca = PCA(n_components=50)\n",
    "s_all_features_ori = pca.fit_transform(s_feat_ori)\n",
    "s_all_features_aug = pca.fit_transform(s_feat_aug)\n",
    "\n",
    "# KS测试\n",
    "ks_stats = np.array([ks_2samp(s_all_features_ori[:, i], s_all_features_aug[:, i]) for i in range(s_all_features_ori.shape[1])])\n",
    "ks_p_values = ks_stats[:, 1]\n",
    "\n",
    "# Wasserstein距离\n",
    "wasserstein_distances = np.array([wasserstein_distance(s_all_features_ori[:, i], s_all_features_aug[:, i]) for i in range(s_all_features_aug.shape[1])])\n",
    "\n",
    "# 输出统计结果\n",
    "print(f'Mean KS p-value: {np.mean(ks_p_values)}')\n",
    "print(f'Mean Wasserstein distance: {np.mean(wasserstein_distances)}')\n",
    "\n",
    "# 根据统计测试结果判断\n",
    "if np.mean(ks_p_values) > 0.05 and np.mean(wasserstein_distances) < 0.1:  # threshold根据实际情况调整\n",
    "    print(\"特征图可能来自相同分布。\")\n",
    "else:\n",
    "    print(\"特征图可能来自不同分布。\")"
   ]
  },
  {
   "cell_type": "code",
   "execution_count": null,
   "metadata": {},
   "outputs": [],
   "source": [
    "s_feat_ori.shape"
   ]
  },
  {
   "cell_type": "code",
   "execution_count": null,
   "metadata": {},
   "outputs": [],
   "source": [
    "pca = PCA(n_components=2)\n",
    "feature1_pca = pca.fit_transform(s_feat_ori)\n",
    "feature2_pca = pca.fit_transform(s_feat_aug)\n",
    "legend_font = {\"family\" : \"Times New Roman\"}\n",
    "\n",
    "plt.scatter(feature1_pca[:, 0], feature1_pca[:, 1], alpha=0.5, label='FitNet')\n",
    "plt.scatter(feature2_pca[:, 0], feature2_pca[:, 1], alpha=0.5, label='FitNet + DFKD')\n",
    "plt.legend(fontsize='large')\n",
    "# plt.title('Comparison of feature distribution visualization')\n",
    "plt.text(x=0.95, y=0.8, s=\"KS p-value: 0.26\", horizontalalignment='right', verticalalignment='top', transform=plt.gca().transAxes, fontsize='large')\n",
    "plt.savefig('/home/fabien/Documents/project/2d/mdistiller/tools/visualizations/dfkd/Scatter_Plot_Comparison.pdf', format='pdf')\n",
    "# plt.xlabel('PCA1')\n",
    "# plt.ylabel('PCA2')\n",
    "plt.show()"
   ]
  },
  {
   "cell_type": "code",
   "execution_count": null,
   "metadata": {},
   "outputs": [],
   "source": [
    "plt.hist(s_feat_ori, bins=50, alpha=0.5, label='FitNet')\n",
    "plt.hist(s_feat_aug, bins=50, alpha=0.5, label='FitNet + DFKD')\n",
    "plt.legend()\n",
    "plt.title('Histogram Comparison')\n",
    "\n",
    "plt.xlim(left=None, right=6)\n",
    "plt.text(x=0.95, y=0.82, s=\"KS p-value: 0.26\", horizontalalignment='right', verticalalignment='top', transform=plt.gca().transAxes)\n",
    "plt.savefig('/home/fabien/Documents/project/2d/mdistiller/tools/visualizations/dfkd/histogram_comparison.pdf', format='pdf')\n",
    "plt.show()\n",
    "\n",
    "sns.kdeplot(feature1, label='Feature Set 1')\n",
    "sns.kdeplot(feature2, label='Feature Set 2')\n",
    "\n",
    "# # 绘制密度图\n",
    "# sns.kdeplot(s_feat_ori, fill=True, label='Feature 1')\n",
    "# sns.kdeplot(s_feat_aug, fill=True, label='Feature 2')\n",
    "# plt.legend()\n",
    "# plt.title('Density Plot Comparison')\n",
    "# plt.show()"
   ]
  },
  {
   "cell_type": "code",
   "execution_count": null,
   "metadata": {},
   "outputs": [],
   "source": [
    "feature1_means = np.mean(s_feat_ori, axis=0)\n",
    "feature2_means = np.mean(s_feat_aug, axis=0)\n",
    "data = [feature1_means, feature2_means]\n",
    "labels = ['FitNet', 'FitNet + DFKD']\n",
    "\n",
    "# 绘制箱型图\n",
    "plt.figure(figsize=(6, 6))\n",
    "bplot = plt.boxplot(data, labels=labels, patch_artist=True)  # 添加 patch_artist=True 来填充箱体颜色\n",
    "\n",
    "# 设置颜色\n",
    "colors = ['#1f77b4', \"#ff7f0e\"]  # 你可以根据需要调整颜色代码\n",
    "for patch, color in zip(bplot['boxes'], colors):\n",
    "    patch.set_facecolor(color)\n",
    "\n",
    "# 设置中位数线的颜色为黑色\n",
    "for median in bplot['medians']:\n",
    "    median.set_color('#8B4513')  # 将中位数线设置为黑色\n",
    "\n",
    "for flier in bplot['fliers']:\n",
    "    flier.set_markerfacecolor('red')  # 设置异常点为红色\n",
    "    flier.set_marker('o')\n",
    "\n",
    "# 设置坐标轴标签和标题的字体大小\n",
    "plt.xticks(fontsize=14)\n",
    "plt.yticks(fontsize=14)\n",
    "plt.ylabel('Value', fontsize=14)\n",
    "\n",
    "# 添加网格线\n",
    "plt.grid(True, linestyle='--', alpha=0.6)\n",
    "\n",
    "# 保存图片\n",
    "plt.savefig('/home/fabien/Documents/project/2d/mdistiller/tools/visualizations/dfkd/box_plot.pdf', format='pdf')\n",
    "\n",
    "# 显示图表\n",
    "plt.show()\n"
   ]
  },
  {
   "cell_type": "code",
   "execution_count": null,
   "metadata": {},
   "outputs": [],
   "source": [
    "s_feat_ori.shape"
   ]
  }
 ],
 "metadata": {
  "interpreter": {
   "hash": "31f2aee4e71d21fbe5cf8b01ff0e069b9275f58929596ceb00d14d90e3e16cd6"
  },
  "kernelspec": {
   "display_name": "Python 3.6.9 64-bit",
   "language": "python",
   "name": "python3"
  },
  "language_info": {
   "codemirror_mode": {
    "name": "ipython",
    "version": 3
   },
   "file_extension": ".py",
   "mimetype": "text/x-python",
   "name": "python",
   "nbconvert_exporter": "python",
   "pygments_lexer": "ipython3",
   "version": "3.9.17"
  },
  "orig_nbformat": 2
 },
 "nbformat": 4,
 "nbformat_minor": 2
}
